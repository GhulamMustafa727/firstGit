{
 "cells": [
  {
   "cell_type": "markdown",
   "id": "c092a63a",
   "metadata": {},
   "source": [
    "## Jupyter notebook with VScode\n",
    "\n",
    "this is more better than any other notebook"
   ]
  },
  {
   "cell_type": "code",
   "execution_count": null,
   "id": "902dab32",
   "metadata": {},
   "outputs": [],
   "source": [
    "print(\"python coding skills\")"
   ]
  },
  {
   "cell_type": "code",
   "execution_count": null,
   "id": "f3178580",
   "metadata": {},
   "outputs": [],
   "source": [
    "gm = \"my name is Ghulam Mustafa\"\n",
    "gm"
   ]
  },
  {
   "cell_type": "code",
   "execution_count": null,
   "id": "d8fa91d9",
   "metadata": {},
   "outputs": [],
   "source": [
    "import numpy as np\n",
    "import pandas as pd \n",
    "import matplotlib.pyplot as plt \n",
    "data = pd.read_csv(\"Iris.csv\") \n",
    "print (data.head(10))"
   ]
  }
 ],
 "metadata": {
  "kernelspec": {
   "display_name": "Python 3",
   "language": "python",
   "name": "python3"
  },
  "language_info": {
   "codemirror_mode": {
    "name": "ipython",
    "version": 3
   },
   "file_extension": ".py",
   "mimetype": "text/x-python",
   "name": "python",
   "nbconvert_exporter": "python",
   "pygments_lexer": "ipython3",
   "version": "3.12.1"
  }
 },
 "nbformat": 4,
 "nbformat_minor": 5
}
